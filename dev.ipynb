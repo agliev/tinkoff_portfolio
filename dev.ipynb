{
 "cells": [
  {
   "cell_type": "code",
   "execution_count": 8,
   "id": "7cb63448",
   "metadata": {},
   "outputs": [],
   "source": [
    "import tinvest \n",
    "from secrets import TOKEN\n",
    "import pandas as pd\n",
    "pd.options.display.float_format = '{:,}'.format\n",
    " "
   ]
  },
  {
   "cell_type": "code",
   "execution_count": 18,
   "id": "5035ec44",
   "metadata": {},
   "outputs": [],
   "source": [
    "EX_RATE_DICT = {\"usd\":71.5, \"rub\":1}\n",
    "client = tinvest.SyncClient(TOKEN)"
   ]
  },
  {
   "cell_type": "code",
   "execution_count": 16,
   "id": "388900c3",
   "metadata": {},
   "outputs": [],
   "source": [
    "def export_portfolio(client):\n",
    "    df = pd.DataFrame(client.get_portfolio().dict()['payload'][\"positions\"])\n",
    "    df[\"currency\"] = df[\"average_position_price\"].map(lambda i: i[\"currency\"])\n",
    "    df[\"average_position_price\"] = df[\"average_position_price\"].map(lambda i: i[\"value\"])\n",
    "    df[\"currency\"] = df[\"currency\"].map(lambda i: i.name)\n",
    "    df[\"expected_yield\"] = df[\"expected_yield\"].map(lambda i: i[\"value\"])\n",
    "    df[\"instrument_type\"] = df[\"instrument_type\"].map(lambda i: i.name)\n",
    "    df[\"currency_mult\"] = df[\"currency\"].replace(EX_RATE_DICT)\n",
    "    df[\"rub_position_price\"] = df[\"average_position_price\"].map(float)*df[\"currency_mult\"]\n",
    "    df[\"rub_expected_yield\"] = df[\"expected_yield\"].map(float)*df[\"currency_mult\"]\n",
    "    df[\"total_position_price\"] = df[\"rub_position_price\"]*df[\"balance\"].map(float)\n",
    "    df[\"average_position_price\"] = df[\"average_position_price\"].apply(lambda x: f\"{x:.2f}\".replace('.', ','))\n",
    "    df[\"balance\"] = df[\"balance\"].apply(lambda x: f\"{x:.2f}\".replace('.', ','))\n",
    "    df[\"expected_yield\"] = df[\"expected_yield\"].apply(lambda x: f\"{x:.2f}\".replace('.', ','))\n",
    "    \n",
    "    return df"
   ]
  },
  {
   "cell_type": "code",
   "execution_count": 21,
   "id": "5f55310e",
   "metadata": {},
   "outputs": [],
   "source": [
    "df = export_portfolio(client)"
   ]
  },
  {
   "cell_type": "code",
   "execution_count": 22,
   "id": "4fc3d9b4",
   "metadata": {},
   "outputs": [],
   "source": [
    "df.to_excel(\"Table.xlsx\", float_format=\"%.2f\")"
   ]
  }
 ],
 "metadata": {
  "kernelspec": {
   "display_name": "Python 3",
   "language": "python",
   "name": "python3"
  },
  "language_info": {
   "codemirror_mode": {
    "name": "ipython",
    "version": 3
   },
   "file_extension": ".py",
   "mimetype": "text/x-python",
   "name": "python",
   "nbconvert_exporter": "python",
   "pygments_lexer": "ipython3",
   "version": "3.8.8"
  }
 },
 "nbformat": 4,
 "nbformat_minor": 5
}
