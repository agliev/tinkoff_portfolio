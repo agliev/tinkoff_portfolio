{
 "cells": [
  {
   "cell_type": "code",
   "execution_count": 174,
   "id": "bdc8fd50",
   "metadata": {},
   "outputs": [],
   "source": [
    "import requests\n",
    "from bs4 import BeautifulSoup\n",
    "from pprint import pprint\n",
    "import pandas as pd\n",
    "import numpy as np"
   ]
  },
  {
   "cell_type": "code",
   "execution_count": 13,
   "id": "c8c40be4",
   "metadata": {},
   "outputs": [],
   "source": [
    "URL = \"https://www.tinkoff.ru/invest/stocks/?country=All&orderType=Asc&sortType=ByName&start=0&end=12\"\n",
    "HEADERS = {'user-agent': \"Mozilla/5.0 (Windows NT 10.0; Win64; x64) AppleWebKit/537.36 (KHTML, like Gecko) Chrome/95.0.4638.69 Safari/537.36\" }"
   ]
  },
  {
   "cell_type": "code",
   "execution_count": 14,
   "id": "1a7f91b7",
   "metadata": {},
   "outputs": [],
   "source": [
    "def get_HTML(URL, params = None):\n",
    "    r = requests.get(URL, headers = HEADERS, params = params)\n",
    "    return r"
   ]
  },
  {
   "cell_type": "code",
   "execution_count": 231,
   "id": "f9bcdcfc",
   "metadata": {},
   "outputs": [],
   "source": [
    "def parse(URL):\n",
    "    stock_params_dict = {}\n",
    "    html = get_HTML(URL)\n",
    "    if html.status_code == 200:\n",
    "        soup = BeautifulSoup(html.text, \"html.parser\")\n",
    "        items = soup.find_all(\"a\", class_ = \"Link-module__link__Wv1b Link-module__link_theme_default_gf5wq\")\n",
    "        \n",
    "        stock_title_list = pd.Series([item.find('div', class_ = \"Caption__caption_cyYZT\") \\\n",
    "                         for item in items if item.find('div', class_ = \"Caption__caption_cyYZT\") ]).apply(lambda i: i.text)\n",
    "        stock_ticker_list = pd.Series([item.find('div', class_ = \"Caption__subcaption_xTAKS\") \\\n",
    "                         for item in items if item.find('div', class_ = \"Caption__subcaption_xTAKS\") ]).apply(lambda i: i.text)\n",
    "        stock_price_list = [price.replace(\"\\xa0\",\"\") for price in pd.Series([item.find('div', class_ = \"SecurityColumn__cellPriceSecurities_cswKs\") \\\n",
    "                         for item in items if item.find('div', class_ = \"SecurityColumn__cellPriceSecurities_cswKs\") ]).apply(lambda i: i.text)]\n",
    "        stock_yield_listok = pd.Series([item.find('span', class_ = \"Money-module__money_UwC2N\") \\\n",
    "                         for item in items if item.find('span', class_ = \"Money-module__money_UwC2N\") ]).apply(lambda i: i.text)\n",
    "        stock_yield_list = [yld.replace(\"\\xa0\",\"\") for yld in stock_yield_listok[::2]]\n",
    "        for i in range(12):\n",
    "            stock_params_dict[stock_title_list[i]] = [stock_ticker_list[i],stock_price_list[i], stock_yield_list[i] ]\n",
    "    else:\n",
    "        print(\"Error\")\n",
    "    return  stock_params_dict\n"
   ]
  },
  {
   "cell_type": "code",
   "execution_count": 232,
   "id": "45af6e6c",
   "metadata": {},
   "outputs": [],
   "source": [
    "URL_all = \"https://www.tinkoff.ru/invest/stocks/?country=All&orderType=Asc&sortType=ByName&start=0&end=12\""
   ]
  },
  {
   "cell_type": "code",
   "execution_count": 233,
   "id": "a138a43d",
   "metadata": {},
   "outputs": [],
   "source": [
    "stock_params_dict  = parse(URL_all)"
   ]
  },
  {
   "cell_type": "code",
   "execution_count": 18,
   "id": "fe1a5733",
   "metadata": {},
   "outputs": [],
   "source": [
    "all_URL = []\n",
    "for i in range(1,6):\n",
    "    all_URL.append(\"https://www.tinkoff.ru/invest/stocks/?country=All&orderType=Asc&sortType=ByName&start=0&end=\" + str(12*i))"
   ]
  },
  {
   "cell_type": "code",
   "execution_count": 234,
   "id": "15626b24",
   "metadata": {},
   "outputs": [
    {
     "data": {
      "text/html": [
       "<div>\n",
       "<style scoped>\n",
       "    .dataframe tbody tr th:only-of-type {\n",
       "        vertical-align: middle;\n",
       "    }\n",
       "\n",
       "    .dataframe tbody tr th {\n",
       "        vertical-align: top;\n",
       "    }\n",
       "\n",
       "    .dataframe thead th {\n",
       "        text-align: right;\n",
       "    }\n",
       "</style>\n",
       "<table border=\"1\" class=\"dataframe\">\n",
       "  <thead>\n",
       "    <tr style=\"text-align: right;\">\n",
       "      <th></th>\n",
       "      <th>Ticker</th>\n",
       "      <th>Price</th>\n",
       "      <th>Yield</th>\n",
       "    </tr>\n",
       "  </thead>\n",
       "  <tbody>\n",
       "    <tr>\n",
       "      <th>1-800-Flowers.com Inc</th>\n",
       "      <td>FLWS</td>\n",
       "      <td>34.36</td>\n",
       "      <td>+5,04$</td>\n",
       "    </tr>\n",
       "    <tr>\n",
       "      <th>10X Genomics Inc</th>\n",
       "      <td>TXG</td>\n",
       "      <td>160.27</td>\n",
       "      <td>−8,24$</td>\n",
       "    </tr>\n",
       "    <tr>\n",
       "      <th>1Life Healthcare</th>\n",
       "      <td>ONEM</td>\n",
       "      <td>21.86</td>\n",
       "      <td>0$</td>\n",
       "    </tr>\n",
       "    <tr>\n",
       "      <th>2seventy bio</th>\n",
       "      <td>TSVT</td>\n",
       "      <td>35.30</td>\n",
       "      <td>0$</td>\n",
       "    </tr>\n",
       "    <tr>\n",
       "      <th>2U Inc</th>\n",
       "      <td>TWOU</td>\n",
       "      <td>25.87</td>\n",
       "      <td>−10,03$</td>\n",
       "    </tr>\n",
       "    <tr>\n",
       "      <th>3D Systems Corp</th>\n",
       "      <td>DDD</td>\n",
       "      <td>25.62</td>\n",
       "      <td>0$</td>\n",
       "    </tr>\n",
       "    <tr>\n",
       "      <th>3M Company</th>\n",
       "      <td>MMM</td>\n",
       "      <td>182.90</td>\n",
       "      <td>−8,1$</td>\n",
       "    </tr>\n",
       "    <tr>\n",
       "      <th>51job</th>\n",
       "      <td>JOBS</td>\n",
       "      <td>51.13</td>\n",
       "      <td>−12,36$</td>\n",
       "    </tr>\n",
       "    <tr>\n",
       "      <th>8x8 Inc</th>\n",
       "      <td>EGHT</td>\n",
       "      <td>21.98</td>\n",
       "      <td>−10,02$</td>\n",
       "    </tr>\n",
       "    <tr>\n",
       "      <th>A. O. Smith Corporation</th>\n",
       "      <td>AOS</td>\n",
       "      <td>82.75</td>\n",
       "      <td>+15,29$</td>\n",
       "    </tr>\n",
       "    <tr>\n",
       "      <th>AAON</th>\n",
       "      <td>AAON</td>\n",
       "      <td>76.30</td>\n",
       "      <td>+3,45$</td>\n",
       "    </tr>\n",
       "    <tr>\n",
       "      <th>AAR Corp</th>\n",
       "      <td>AIR</td>\n",
       "      <td>37.71</td>\n",
       "      <td>−4,58$</td>\n",
       "    </tr>\n",
       "  </tbody>\n",
       "</table>\n",
       "</div>"
      ],
      "text/plain": [
       "                        Ticker   Price    Yield\n",
       "1-800-Flowers.com Inc     FLWS   34.36   +5,04$\n",
       "10X Genomics Inc           TXG  160.27   −8,24$\n",
       "1Life Healthcare          ONEM   21.86       0$\n",
       "2seventy bio              TSVT   35.30       0$\n",
       "2U Inc                    TWOU   25.87  −10,03$\n",
       "3D Systems Corp            DDD   25.62       0$\n",
       "3M Company                 MMM  182.90    −8,1$\n",
       "51job                     JOBS   51.13  −12,36$\n",
       "8x8 Inc                   EGHT   21.98  −10,02$\n",
       "A. O. Smith Corporation    AOS   82.75  +15,29$\n",
       "AAON                      AAON   76.30   +3,45$\n",
       "AAR Corp                   AIR   37.71   −4,58$"
      ]
     },
     "execution_count": 234,
     "metadata": {},
     "output_type": "execute_result"
    }
   ],
   "source": [
    "df = np.transpose(pd.DataFrame(stock_params_dict))  \n",
    "df.columns = [\"Ticker\",\"Price\",\"Yield\"]\n",
    "df[\"Price\"] = df[\"Price\"].map(lambda i: float(i[:-1].replace(\",\",\".\")))\n",
    "\n",
    "df"
   ]
  },
  {
   "cell_type": "code",
   "execution_count": 229,
   "id": "cc908535",
   "metadata": {},
   "outputs": [
    {
     "data": {
      "text/plain": [
       "18"
      ]
     },
     "execution_count": 229,
     "metadata": {},
     "output_type": "execute_result"
    }
   ],
   "source": []
  },
  {
   "cell_type": "code",
   "execution_count": null,
   "id": "014b3a6a",
   "metadata": {},
   "outputs": [],
   "source": []
  }
 ],
 "metadata": {
  "kernelspec": {
   "display_name": "Python 3",
   "language": "python",
   "name": "python3"
  },
  "language_info": {
   "codemirror_mode": {
    "name": "ipython",
    "version": 3
   },
   "file_extension": ".py",
   "mimetype": "text/x-python",
   "name": "python",
   "nbconvert_exporter": "python",
   "pygments_lexer": "ipython3",
   "version": "3.8.8"
  }
 },
 "nbformat": 4,
 "nbformat_minor": 5
}
