{
 "cells": [
  {
   "cell_type": "code",
   "execution_count": 12,
   "id": "bdc8fd50",
   "metadata": {},
   "outputs": [],
   "source": [
    "import requests\n",
    "from bs4 import BeautifulSoup\n",
    "from pprint import pprint\n",
    "import pandas as pd"
   ]
  },
  {
   "cell_type": "code",
   "execution_count": 13,
   "id": "c8c40be4",
   "metadata": {},
   "outputs": [],
   "source": [
    "URL = \"https://www.tinkoff.ru/invest/stocks/?country=All&orderType=Asc&sortType=ByName&start=0&end=12\"\n",
    "HEADERS = {'user-agent': \"Mozilla/5.0 (Windows NT 10.0; Win64; x64) AppleWebKit/537.36 (KHTML, like Gecko) Chrome/95.0.4638.69 Safari/537.36\" }"
   ]
  },
  {
   "cell_type": "code",
   "execution_count": 14,
   "id": "1a7f91b7",
   "metadata": {},
   "outputs": [],
   "source": [
    "def get_HTML(URL, params = None):\n",
    "    r = requests.get(URL, headers = HEADERS, params = params)\n",
    "    return r"
   ]
  },
  {
   "cell_type": "code",
   "execution_count": 126,
   "id": "f9bcdcfc",
   "metadata": {},
   "outputs": [],
   "source": [
    "def parse(URL):\n",
    "    stock_params_dict = {}\n",
    "    html = get_HTML(URL)\n",
    "    if html.status_code == 200:\n",
    "        soup = BeautifulSoup(html.text, \"html.parser\")\n",
    "        items = soup.find_all(\"a\", class_ = \"Link-module__link__Wv1b Link-module__link_theme_default_gf5wq\")\n",
    "        \n",
    "        stock_title_list = pd.Series([item.find('div', class_ = \"Caption__caption_cyYZT\") \\\n",
    "                         for item in items if item.find('div', class_ = \"Caption__caption_cyYZT\") ]).apply(lambda i: i.text)\n",
    "        stock_ticker_list = pd.Series([item.find('div', class_ = \"Caption__subcaption_xTAKS\") \\\n",
    "                         for item in items if item.find('div', class_ = \"Caption__subcaption_xTAKS\") ]).apply(lambda i: i.text)\n",
    "        stock_price_list = [price.replace(\"\\xa0\",\"\") for price in pd.Series([item.find('div', class_ = \"SecurityColumn__cellPriceSecurities_cswKs\") \\\n",
    "                         for item in items if item.find('div', class_ = \"SecurityColumn__cellPriceSecurities_cswKs\") ]).apply(lambda i: i.text)]\n",
    "        stock_yield_listok = pd.Series([item.find('span', class_ = \"Money-module__money_UwC2N\") \\\n",
    "                         for item in items if item.find('span', class_ = \"Money-module__money_UwC2N\") ]).apply(lambda i: i.text)\n",
    "        stock_yield_list = [yld.replace(\"\\xa0\",\"\") for yld in stock_yield_listok[::2]]\n",
    "        for i in range(12):\n",
    "            stock_params_dict[stock_title_list[i]] = [stock_ticker_list[i],stock_price_list[i], stock_yield_list[i] ]\n",
    "    else:\n",
    "        print(\"Error\")\n",
    "    return  stock_params_dict\n"
   ]
  },
  {
   "cell_type": "code",
   "execution_count": 56,
   "id": "45af6e6c",
   "metadata": {},
   "outputs": [],
   "source": [
    "URL_all = \"https://www.tinkoff.ru/invest/stocks/?country=All&orderType=Asc&sortType=ByName&start=0&end=12\""
   ]
  },
  {
   "cell_type": "code",
   "execution_count": 127,
   "id": "593b3446",
   "metadata": {},
   "outputs": [
    {
     "name": "stdout",
     "output_type": "stream",
     "text": [
      "{'1-800-Flowers.com Inc': ['FLWS', '34,48$', '+5,16$'],\n",
      " '10X Genomics Inc': ['TXG', '160,62$', '−7,89$'],\n",
      " '1Life Healthcare': ['ONEM', '21,9$', '0$'],\n",
      " '2U Inc': ['TWOU', '25,7$', '−10,2$'],\n",
      " '2seventy bio': ['TSVT', '35,38$', '0$'],\n",
      " '3D Systems Corp': ['DDD', '25,68$', '0$'],\n",
      " '3M Company': ['MMM', '183,63$', '−7,37$'],\n",
      " '51job': ['JOBS', '51,1$', '−12,39$'],\n",
      " '8x8 Inc': ['EGHT', '21,98$', '−10,02$'],\n",
      " 'A. O. Smith Corporation': ['AOS', '82,72$', '+15,26$'],\n",
      " 'AAON': ['AAON', '76,34$', '+3,49$'],\n",
      " 'AAR Corp': ['AIR', '37,59$', '−4,7$']}\n"
     ]
    }
   ],
   "source": [
    "pprint(parse(URL_all))"
   ]
  },
  {
   "cell_type": "code",
   "execution_count": 114,
   "id": "f48bf076",
   "metadata": {},
   "outputs": [
    {
     "data": {
      "text/plain": [
       "['+3,48$',\n",
       " '−10,32$',\n",
       " '0$',\n",
       " '0$',\n",
       " '−12,43$',\n",
       " '0$',\n",
       " '−4,66$',\n",
       " '−12,44$',\n",
       " '−11,33$',\n",
       " '+16,02$',\n",
       " '+3,86$',\n",
       " '−7,13$']"
      ]
     },
     "execution_count": 114,
     "metadata": {},
     "output_type": "execute_result"
    }
   ],
   "source": [
    "stock_yield_list1 = [yld.replace(\"\\xa0\",\"\") for yld in stock_yield_list[::2]]\n",
    "stock_yield_list1"
   ]
  },
  {
   "cell_type": "code",
   "execution_count": 18,
   "id": "7a8f2557",
   "metadata": {},
   "outputs": [],
   "source": [
    "all_URL = []\n",
    "for i in range(1,6):\n",
    "    all_URL.append(\"https://www.tinkoff.ru/invest/stocks/?country=All&orderType=Asc&sortType=ByName&start=0&end=\" + str(12*i))"
   ]
  },
  {
   "cell_type": "code",
   "execution_count": 41,
   "id": "be273aa8",
   "metadata": {},
   "outputs": [
    {
     "data": {
      "text/plain": [
       "[0       1-800-Flowers.com Inc\n",
       " 1            10X Genomics Inc\n",
       " 2            1Life Healthcare\n",
       " 3                2seventy bio\n",
       " 4                      2U Inc\n",
       " 5             3D Systems Corp\n",
       " 6                  3M Company\n",
       " 7                       51job\n",
       " 8                     8x8 Inc\n",
       " 9     A. O. Smith Corporation\n",
       " 10                       AAON\n",
       " 11                   AAR Corp\n",
       " dtype: object,\n",
       " 0     FLWS\n",
       " 1      TXG\n",
       " 2     ONEM\n",
       " 3     TSVT\n",
       " 4     TWOU\n",
       " 5      DDD\n",
       " 6      MMM\n",
       " 7     JOBS\n",
       " 8     EGHT\n",
       " 9      AOS\n",
       " 10    AAON\n",
       " 11     AIR\n",
       " dtype: object]"
      ]
     },
     "execution_count": 41,
     "metadata": {},
     "output_type": "execute_result"
    }
   ],
   "source": [
    "full_title_list"
   ]
  },
  {
   "cell_type": "code",
   "execution_count": null,
   "id": "7cd9e2c4",
   "metadata": {},
   "outputs": [],
   "source": []
  }
 ],
 "metadata": {
  "kernelspec": {
   "display_name": "Python 3",
   "language": "python",
   "name": "python3"
  },
  "language_info": {
   "codemirror_mode": {
    "name": "ipython",
    "version": 3
   },
   "file_extension": ".py",
   "mimetype": "text/x-python",
   "name": "python",
   "nbconvert_exporter": "python",
   "pygments_lexer": "ipython3",
   "version": "3.8.8"
  }
 },
 "nbformat": 4,
 "nbformat_minor": 5
}
