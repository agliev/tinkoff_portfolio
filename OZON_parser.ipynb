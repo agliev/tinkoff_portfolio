{
 "cells": [
  {
   "cell_type": "code",
   "execution_count": null,
   "id": "206791f1",
   "metadata": {},
   "outputs": [],
   "source": [
    "# файл криво называется, лучше такое на публику не показывать"
   ]
  },
  {
   "cell_type": "code",
   "execution_count": 1,
   "id": "bdc8fd50",
   "metadata": {},
   "outputs": [],
   "source": [
    "import requests\n",
    "from bs4 import BeautifulSoup\n",
    "from pprint import pprint\n",
    "import pandas as pd\n",
    "import numpy as np\n",
    "\n",
    "LEN = 1807  # хардкод, лучше избегать\n",
    "            # если это количество акций - лучше придумать, как его доставать из страницы"
   ]
  },
  {
   "cell_type": "code",
   "execution_count": 2,
   "id": "c8c40be4",
   "metadata": {},
   "outputs": [],
   "source": [
    "URL = \"https://www.tinkoff.ru/invest/stocks/?country=All&orderType=Asc&sortType=ByName&start=0&end=12\"\n",
    "# В URL видно, что есть полезные параметры, в частности start и end. Через них можно попытаться выгрузить например\n",
    "# весь список акций, чтобы дальше не итерироваться по страницам\n",
    "\n",
    "HEADERS = {'user-agent': \"Mozilla/5.0 (Windows NT 10.0; Win64; x64) AppleWebKit/537.36 (KHTML, like Gecko) Chrome/95.0.4638.69 Safari/537.36\" }"
   ]
  },
  {
   "cell_type": "code",
   "execution_count": 328,
   "id": "1a7f91b7",
   "metadata": {},
   "outputs": [],
   "source": [
    "def get_html(URL, params = None):  # PEP 8\n",
    "    r = requests.get(URL, headers = HEADERS, params = params)\n",
    "    return r"
   ]
  },
  {
   "cell_type": "code",
   "execution_count": 329,
   "id": "f9bcdcfc",
   "metadata": {},
   "outputs": [],
   "source": [
    "def parse(URL, _len):  # PEP 8\n",
    "    \"\"\"\n",
    "    К функциям лучше прилагать описание\n",
    "    \"\"\"\n",
    "    \n",
    "    stock_params_dict = {}\n",
    "    html = get_HTML(URL)\n",
    "    \n",
    "    if html.status_code == 200:\n",
    "        soup = BeautifulSoup(html.text, \"html.parser\")\n",
    "        items = soup.find_all(\"a\", class_ = \"Link-module__link__Wv1b Link-module__link_theme_default_gf5wq\")\n",
    "        \n",
    "        # find_all можно оформить как find_all(\"a\", {'class': '...'}), но так тоже норм\n",
    "        \n",
    "        # строки длинные, но это в целом не сильно критично\n",
    "        \n",
    "        stock_title_list = pd.Series([item.find('div', class_ = \"Caption__caption_cyYZT\") \\\n",
    "                         for item in items if item.find('div', class_ = \"Caption__caption_cyYZT\") ]).apply(lambda i: i.text)\n",
    "        stock_ticker_list = pd.Series([item.find('div', class_ = \"Caption__subcaption_xTAKS\") \\\n",
    "                         for item in items if item.find('div', class_ = \"Caption__subcaption_xTAKS\") ]).apply(lambda i: i.text)\n",
    "        stock_price_list = [price.replace(\"\\xa0\",\"\") for price in pd.Series([item.find('div', class_ = \"SecurityColumn__cellPriceSecurities_cswKs\") \\\n",
    "                         for item in items if item.find('div', class_ = \"SecurityColumn__cellPriceSecurities_cswKs\") ]).apply(lambda i: i.text)]\n",
    "        stock_yield_listok = pd.Series([item.find('span', class_ = \"Money-module__money_UwC2N\") \\\n",
    "                         for item in items if item.find('span', class_ = \"Money-module__money_UwC2N\") ]).apply(lambda i: i.text)  # не очень хороший нейминг\n",
    "        stock_yield_list = [yld.replace(\"\\xa0\",\"\") for yld in stock_yield_listok[::2]]  # ::2 - хардкод?\n",
    "        \n",
    "        for i in range(_len):\n",
    "            stock_params_dict[stock_title_list[i]] = [stock_ticker_list[i],stock_price_list[i], stock_yield_list[i]]\n",
    "            \n",
    "    else:\n",
    "        print(\"Error\")\n",
    "        \n",
    "    return stock_params_dict\n",
    "\n",
    "# иногда если if гораздо больше, чем else, их меняют местами (например заменить == 200 на != 200 и всё остальное\n",
    "# убрать в else)"
   ]
  },
  {
   "cell_type": "code",
   "execution_count": 330,
   "id": "45af6e6c",
   "metadata": {},
   "outputs": [],
   "source": [
    "url_all = \"https://www.tinkoff.ru/invest/stocks/?country=All&orderType=Asc&sortType=ByName&start=0&end=12\"\n",
    "\n",
    "# не очень хороший нейминг + PEP 8"
   ]
  },
  {
   "cell_type": "code",
   "execution_count": 332,
   "id": "a138a43d",
   "metadata": {},
   "outputs": [],
   "source": [
    "stock_params_dict  = parse(URL_all, 12)"
   ]
  },
  {
   "cell_type": "code",
   "execution_count": 333,
   "id": "fe1a5733",
   "metadata": {},
   "outputs": [],
   "source": [
    "all_url = []  # PEP 8\n",
    "for i in range(1,4):  # хардкод\n",
    "    all_URL.append(\"https://www.tinkoff.ru/invest/stocks/?country=All&orderType=Asc&sortType=ByName&start=0&end=\" + str(12*i))"
   ]
  },
  {
   "cell_type": "code",
   "execution_count": 334,
   "id": "15626b24",
   "metadata": {},
   "outputs": [],
   "source": [
    "df = np.transpose(pd.DataFrame(stock_params_dict))  \n",
    "df.columns = [\"Ticker\", \"Price\", \"Yield\"]  # PEP 8\n",
    "df[\"Price\"] = df[\"Price\"].map(lambda i: float(i[:-1].replace(\",\", \".\"))) # PEP 8"
   ]
  },
  {
   "cell_type": "code",
   "execution_count": 335,
   "id": "48cc6a41",
   "metadata": {},
   "outputs": [],
   "source": [
    "# [ parse(url) for url in all_URL]\n",
    "# all_URL\n",
    "data = parse(\"https://www.tinkoff.ru/invest/stocks/?country=All&orderType=Asc&sortType=ByName&start=0&end=\" + str(LEN), LEN)"
   ]
  },
  {
   "cell_type": "code",
   "execution_count": 3,
   "id": "b611dd6a",
   "metadata": {},
   "outputs": [],
   "source": [
    "# Назначение кода сверху непонятно, очень не хватает комментов"
   ]
  },
  {
   "cell_type": "code",
   "execution_count": 362,
   "id": "13fff425",
   "metadata": {},
   "outputs": [
    {
     "data": {
      "text/html": [
       "<div>\n",
       "<style scoped>\n",
       "    .dataframe tbody tr th:only-of-type {\n",
       "        vertical-align: middle;\n",
       "    }\n",
       "\n",
       "    .dataframe tbody tr th {\n",
       "        vertical-align: top;\n",
       "    }\n",
       "\n",
       "    .dataframe thead th {\n",
       "        text-align: right;\n",
       "    }\n",
       "</style>\n",
       "<table border=\"1\" class=\"dataframe\">\n",
       "  <thead>\n",
       "    <tr style=\"text-align: right;\">\n",
       "      <th></th>\n",
       "      <th>Ticker</th>\n",
       "      <th>Price</th>\n",
       "      <th>Nom_Yield</th>\n",
       "      <th>Dir_Change</th>\n",
       "      <th>Currency</th>\n",
       "    </tr>\n",
       "  </thead>\n",
       "  <tbody>\n",
       "    <tr>\n",
       "      <th>1-800-Flowers.com Inc</th>\n",
       "      <td>FLWS</td>\n",
       "      <td>34,21</td>\n",
       "      <td>4.89</td>\n",
       "      <td>+</td>\n",
       "      <td>$</td>\n",
       "    </tr>\n",
       "    <tr>\n",
       "      <th>10X Genomics Inc</th>\n",
       "      <td>TXG</td>\n",
       "      <td>160,27</td>\n",
       "      <td>8.24</td>\n",
       "      <td>−</td>\n",
       "      <td>$</td>\n",
       "    </tr>\n",
       "    <tr>\n",
       "      <th>1Life Healthcare</th>\n",
       "      <td>ONEM</td>\n",
       "      <td>21,71</td>\n",
       "      <td></td>\n",
       "      <td>0</td>\n",
       "      <td>$</td>\n",
       "    </tr>\n",
       "    <tr>\n",
       "      <th>2seventy bio</th>\n",
       "      <td>TSVT</td>\n",
       "      <td>35,25</td>\n",
       "      <td></td>\n",
       "      <td>0</td>\n",
       "      <td>$</td>\n",
       "    </tr>\n",
       "    <tr>\n",
       "      <th>2U Inc</th>\n",
       "      <td>TWOU</td>\n",
       "      <td>25,83</td>\n",
       "      <td>10.07</td>\n",
       "      <td>−</td>\n",
       "      <td>$</td>\n",
       "    </tr>\n",
       "    <tr>\n",
       "      <th>...</th>\n",
       "      <td>...</td>\n",
       "      <td>...</td>\n",
       "      <td>...</td>\n",
       "      <td>...</td>\n",
       "      <td>...</td>\n",
       "    </tr>\n",
       "    <tr>\n",
       "      <th>Энел Россия</th>\n",
       "      <td>ENRU</td>\n",
       "      <td>0,89</td>\n",
       "      <td>0.08</td>\n",
       "      <td>+</td>\n",
       "      <td>₽</td>\n",
       "    </tr>\n",
       "    <tr>\n",
       "      <th>ЭсЭфАй</th>\n",
       "      <td>SFIN</td>\n",
       "      <td>454,6</td>\n",
       "      <td>44.6</td>\n",
       "      <td>−</td>\n",
       "      <td>₽</td>\n",
       "    </tr>\n",
       "    <tr>\n",
       "      <th>Юнипро</th>\n",
       "      <td>UPRO</td>\n",
       "      <td>2,79</td>\n",
       "      <td>0.15</td>\n",
       "      <td>−</td>\n",
       "      <td>₽</td>\n",
       "    </tr>\n",
       "    <tr>\n",
       "      <th>ЮУНК</th>\n",
       "      <td>UNKL</td>\n",
       "      <td>8650</td>\n",
       "      <td>1320</td>\n",
       "      <td>−</td>\n",
       "      <td>₽</td>\n",
       "    </tr>\n",
       "    <tr>\n",
       "      <th>ЯТЭК</th>\n",
       "      <td>YAKG</td>\n",
       "      <td>129</td>\n",
       "      <td>20.8</td>\n",
       "      <td>+</td>\n",
       "      <td>₽</td>\n",
       "    </tr>\n",
       "  </tbody>\n",
       "</table>\n",
       "<p>1805 rows × 5 columns</p>\n",
       "</div>"
      ],
      "text/plain": [
       "                      Ticker   Price Nom_Yield Dir_Change Currency\n",
       "1-800-Flowers.com Inc   FLWS   34,21      4.89          +        $\n",
       "10X Genomics Inc         TXG  160,27      8.24          −        $\n",
       "1Life Healthcare        ONEM   21,71                    0        $\n",
       "2seventy bio            TSVT   35,25                    0        $\n",
       "2U Inc                  TWOU   25,83     10.07          −        $\n",
       "...                      ...     ...       ...        ...      ...\n",
       "Энел Россия             ENRU    0,89      0.08          +        ₽\n",
       "ЭсЭфАй                  SFIN   454,6      44.6          −        ₽\n",
       "Юнипро                  UPRO    2,79      0.15          −        ₽\n",
       "ЮУНК                    UNKL    8650      1320          −        ₽\n",
       "ЯТЭК                    YAKG     129      20.8          +        ₽\n",
       "\n",
       "[1805 rows x 5 columns]"
      ]
     },
     "execution_count": 362,
     "metadata": {},
     "output_type": "execute_result"
    }
   ],
   "source": [
    "def struct(data):\n",
    "    \"\"\"\n",
    "    Описание\n",
    "    \"\"\"\n",
    "    \n",
    "    all_df = pd.DataFrame(data)\n",
    "    all_df = np.transpose(all_df)\n",
    "    all_df.columns = [\"Ticker\", \"Price\", \"Nom_Yield\"] # PEP 8\n",
    "    all_df[\"Dir_Change\"] = all_df[\"Nom_Yield\"].apply(lambda i: i[0])\n",
    "    all_df[\"Currency\"] = all_df[\"Nom_Yield\"].apply(lambda i: i[-1])\n",
    "    all_df[\"Nom_Yield\"] = all_df[\"Nom_Yield\"].apply(lambda i: i[1:-1])\n",
    "    all_df[\"Nom_Yield\"] = all_df[\"Nom_Yield\"].apply(lambda i: i.replace(\",\",\".\"))\n",
    "    \n",
    "    # Разделение Nom_Yield наверняка можно оптимизировать, надо посмотреть на исходный датафрейм\n",
    "    \n",
    "    all_df[\"Price\"] = all_df[\"Price\"].apply(lambda i: i[:-1])\n",
    "    \n",
    "    return all_df"
   ]
  },
  {
   "cell_type": "code",
   "execution_count": 5,
   "id": "84c047e7",
   "metadata": {},
   "outputs": [],
   "source": [
    "# Проверку кода можно сделать удобнее, если делать это через отдельную ветку и code review\n",
    "# Перед внесением изменений делаешь git checkout -b dev (dev - любое название)\n",
    "# Дальше там работаешь, коммитишь\n",
    "# После этого git push --set-upstream origin mk_codereview_21_11_21\n",
    "# Дальше в гитхабе ищешь branches, там ветку dev и запрашиваешь pull request\n",
    "# Справа будет кнопка assignees - можешь назначить меня на проверку\n",
    "# Дальше нажимаешь pull request и ждёшь"
   ]
  },
  {
   "cell_type": "code",
   "execution_count": null,
   "id": "bb402fc2",
   "metadata": {},
   "outputs": [],
   "source": []
  }
 ],
 "metadata": {
  "kernelspec": {
   "display_name": "Python 3 (ipykernel)",
   "language": "python",
   "name": "python3"
  },
  "language_info": {
   "codemirror_mode": {
    "name": "ipython",
    "version": 3
   },
   "file_extension": ".py",
   "mimetype": "text/x-python",
   "name": "python",
   "nbconvert_exporter": "python",
   "pygments_lexer": "ipython3",
   "version": "3.9.7"
  }
 },
 "nbformat": 4,
 "nbformat_minor": 5
}
