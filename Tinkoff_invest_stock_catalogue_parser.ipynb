{
 "cells": [
  {
   "cell_type": "code",
   "execution_count": 188,
   "id": "bdc8fd50",
   "metadata": {},
   "outputs": [],
   "source": [
    "import requests\n",
    "from bs4 import BeautifulSoup\n",
    "import pandas as pd\n",
    "import numpy as np\n",
    "import gspread\n",
    "from oauth2client.service_account import ServiceAccountCredentials\n",
    "LEN = 1807"
   ]
  },
  {
   "cell_type": "code",
   "execution_count": 189,
   "id": "c8c40be4",
   "metadata": {},
   "outputs": [],
   "source": [
    "URL = \"https://www.tinkoff.ru/invest/stocks/?country=All&orderType=Asc&sortType=ByName&start=0&end=12\"\n",
    "HEADERS = {'user-agent': \"Mozilla/5.0 (Windows NT 10.0; Win64; x64) AppleWebKit/537.36 (KHTML, like Gecko) Chrome/95.0.4638.69 Safari/537.36\" }"
   ]
  },
  {
   "cell_type": "code",
   "execution_count": 190,
   "id": "1a7f91b7",
   "metadata": {},
   "outputs": [],
   "source": [
    "def get_HTML(URL, params = None):\n",
    "    r = requests.get(URL, headers = HEADERS, params = params)\n",
    "    return r"
   ]
  },
  {
   "cell_type": "code",
   "execution_count": 191,
   "id": "f9bcdcfc",
   "metadata": {},
   "outputs": [],
   "source": [
    "def parse(URL,Len):\n",
    "    stock_params_dict = {}\n",
    "    html = get_HTML(URL)\n",
    "    if html.status_code == 200:\n",
    "        soup = BeautifulSoup(html.text, \"html.parser\")\n",
    "        items = soup.find_all(\"a\", class_ = \"Link-module__link__Wv1b Link-module__link_theme_default_gf5wq\")\n",
    "        \n",
    "        stock_title_list = pd.Series([item.find('div', class_ = \"Caption__caption_cyYZT\") \\\n",
    "                         for item in items if item.find('div', class_ = \"Caption__caption_cyYZT\") ]).apply(lambda i: i.text)\n",
    "        stock_ticker_list = pd.Series([item.find('div', class_ = \"Caption__subcaption_xTAKS\") \\\n",
    "                         for item in items if item.find('div', class_ = \"Caption__subcaption_xTAKS\") ]).apply(lambda i: i.text)\n",
    "        stock_price_list = [price.replace(\"\\xa0\",\"\") for price in pd.Series([item.find('div', class_ = \"SecurityColumn__cellPriceSecurities_cswKs\") \\\n",
    "                         for item in items if item.find('div', class_ = \"SecurityColumn__cellPriceSecurities_cswKs\") ]).apply(lambda i: i.text)]\n",
    "        stock_yield_listok = pd.Series([item.find('span', class_ = \"Money-module__money_UwC2N\") \\\n",
    "                         for item in items if item.find('span', class_ = \"Money-module__money_UwC2N\") ]).apply(lambda i: i.text)\n",
    "        stock_yield_list = [yld.replace(\"\\xa0\",\"\") for yld in stock_yield_listok[::2]]\n",
    "        for i in range(Len):\n",
    "            stock_params_dict[stock_title_list[i]] = [stock_ticker_list[i],stock_price_list[i], stock_yield_list[i] ]\n",
    "    else:\n",
    "        print(\"Error\")\n",
    "    return  stock_params_dict\n"
   ]
  },
  {
   "cell_type": "code",
   "execution_count": 192,
   "id": "45af6e6c",
   "metadata": {},
   "outputs": [],
   "source": [
    "URL_all = \"https://www.tinkoff.ru/invest/stocks/?country=All&orderType=Asc&sortType=ByName&start=0&end=12\""
   ]
  },
  {
   "cell_type": "code",
   "execution_count": 193,
   "id": "a138a43d",
   "metadata": {},
   "outputs": [],
   "source": [
    "stock_params_dict  = parse(URL_all, 12)"
   ]
  },
  {
   "cell_type": "code",
   "execution_count": 194,
   "id": "fe1a5733",
   "metadata": {},
   "outputs": [],
   "source": [
    "all_URL = []\n",
    "for i in range(1,4):\n",
    "    all_URL.append(\"https://www.tinkoff.ru/invest/stocks/?country=All&orderType=Asc&sortType=ByName&start=0&end=\" + str(12*i))"
   ]
  },
  {
   "cell_type": "code",
   "execution_count": 195,
   "id": "15626b24",
   "metadata": {},
   "outputs": [],
   "source": [
    "df = np.transpose(pd.DataFrame(stock_params_dict))  \n",
    "df.columns = [\"Ticker\",\"Price\",\"Yield\"]\n",
    "df[\"Price\"] = df[\"Price\"].map(lambda i: float(i[:-1].replace(\",\",\".\")))\n",
    "\n"
   ]
  },
  {
   "cell_type": "code",
   "execution_count": 196,
   "id": "48cc6a41",
   "metadata": {},
   "outputs": [],
   "source": [
    "data = parse(\"https://www.tinkoff.ru/invest/stocks/?country=All&orderType=Asc&sortType=ByName&start=0&end=\" + str(LEN), LEN)"
   ]
  },
  {
   "cell_type": "code",
   "execution_count": 229,
   "id": "13fff425",
   "metadata": {},
   "outputs": [],
   "source": [
    "def struct(data):\n",
    "    all_df = np.transpose(pd.DataFrame(data))\n",
    "    all_df.columns = [\"Ticker\",\"Price\",\"Nom_Yield\"]\n",
    "    all_df[\"Currency\"] = all_df[\"Nom_Yield\"].apply(lambda i: i[-1])\n",
    "    all_df[\"Nom_Yield\"] = all_df[\"Nom_Yield\"].apply(lambda i: float(i.replace(\"+\",\"\").replace(\"−\",\"-\").replace(\",\",\".\")[:-1]))\n",
    "    all_df[\"Price\"] = all_df[\"Price\"].apply(lambda i: float(i.replace(\",\",\".\")[:-1]))\n",
    "    all_df[\"Yield_rate\"] = (all_df[\"Price\"] / (all_df[\"Price\"] - all_df[\"Nom_Yield\"])).apply(lambda i: round(i, 2) - 1)\n",
    "    return all_df\n"
   ]
  },
  {
   "cell_type": "code",
   "execution_count": 230,
   "id": "bf0268e5",
   "metadata": {},
   "outputs": [
    {
     "data": {
      "text/html": [
       "<div>\n",
       "<style scoped>\n",
       "    .dataframe tbody tr th:only-of-type {\n",
       "        vertical-align: middle;\n",
       "    }\n",
       "\n",
       "    .dataframe tbody tr th {\n",
       "        vertical-align: top;\n",
       "    }\n",
       "\n",
       "    .dataframe thead th {\n",
       "        text-align: right;\n",
       "    }\n",
       "</style>\n",
       "<table border=\"1\" class=\"dataframe\">\n",
       "  <thead>\n",
       "    <tr style=\"text-align: right;\">\n",
       "      <th></th>\n",
       "      <th>Ticker</th>\n",
       "      <th>Price</th>\n",
       "      <th>Nom_Yield</th>\n",
       "      <th>Currency</th>\n",
       "      <th>Yield_rate</th>\n",
       "    </tr>\n",
       "  </thead>\n",
       "  <tbody>\n",
       "    <tr>\n",
       "      <th>1-800-Flowers.com Inc</th>\n",
       "      <td>FLWS</td>\n",
       "      <td>32.20</td>\n",
       "      <td>3.92</td>\n",
       "      <td>$</td>\n",
       "      <td>0.14</td>\n",
       "    </tr>\n",
       "    <tr>\n",
       "      <th>10X Genomics Inc</th>\n",
       "      <td>TXG</td>\n",
       "      <td>149.92</td>\n",
       "      <td>-28.07</td>\n",
       "      <td>$</td>\n",
       "      <td>-0.16</td>\n",
       "    </tr>\n",
       "    <tr>\n",
       "      <th>1Life Healthcare</th>\n",
       "      <td>ONEM</td>\n",
       "      <td>17.14</td>\n",
       "      <td>0.00</td>\n",
       "      <td>$</td>\n",
       "      <td>0.00</td>\n",
       "    </tr>\n",
       "    <tr>\n",
       "      <th>2seventy bio</th>\n",
       "      <td>TSVT</td>\n",
       "      <td>28.26</td>\n",
       "      <td>0.00</td>\n",
       "      <td>$</td>\n",
       "      <td>0.00</td>\n",
       "    </tr>\n",
       "    <tr>\n",
       "      <th>2U Inc</th>\n",
       "      <td>TWOU</td>\n",
       "      <td>24.72</td>\n",
       "      <td>-14.91</td>\n",
       "      <td>$</td>\n",
       "      <td>-0.38</td>\n",
       "    </tr>\n",
       "    <tr>\n",
       "      <th>...</th>\n",
       "      <td>...</td>\n",
       "      <td>...</td>\n",
       "      <td>...</td>\n",
       "      <td>...</td>\n",
       "      <td>...</td>\n",
       "    </tr>\n",
       "    <tr>\n",
       "      <th>ЧМК</th>\n",
       "      <td>CHMK</td>\n",
       "      <td>4770.00</td>\n",
       "      <td>1660.00</td>\n",
       "      <td>₽</td>\n",
       "      <td>0.53</td>\n",
       "    </tr>\n",
       "    <tr>\n",
       "      <th>ЧТПЗ</th>\n",
       "      <td>CHEP</td>\n",
       "      <td>314.00</td>\n",
       "      <td>66.50</td>\n",
       "      <td>₽</td>\n",
       "      <td>0.27</td>\n",
       "    </tr>\n",
       "    <tr>\n",
       "      <th>Энел Россия</th>\n",
       "      <td>ENRU</td>\n",
       "      <td>0.84</td>\n",
       "      <td>0.01</td>\n",
       "      <td>₽</td>\n",
       "      <td>0.01</td>\n",
       "    </tr>\n",
       "    <tr>\n",
       "      <th>ЭсЭфАй</th>\n",
       "      <td>SFIN</td>\n",
       "      <td>500.20</td>\n",
       "      <td>15.40</td>\n",
       "      <td>₽</td>\n",
       "      <td>0.03</td>\n",
       "    </tr>\n",
       "    <tr>\n",
       "      <th>Юнипро</th>\n",
       "      <td>UPRO</td>\n",
       "      <td>2.73</td>\n",
       "      <td>-0.08</td>\n",
       "      <td>₽</td>\n",
       "      <td>-0.03</td>\n",
       "    </tr>\n",
       "  </tbody>\n",
       "</table>\n",
       "<p>1804 rows × 5 columns</p>\n",
       "</div>"
      ],
      "text/plain": [
       "                      Ticker    Price  Nom_Yield Currency  Yield_rate\n",
       "1-800-Flowers.com Inc   FLWS    32.20       3.92        $        0.14\n",
       "10X Genomics Inc         TXG   149.92     -28.07        $       -0.16\n",
       "1Life Healthcare        ONEM    17.14       0.00        $        0.00\n",
       "2seventy bio            TSVT    28.26       0.00        $        0.00\n",
       "2U Inc                  TWOU    24.72     -14.91        $       -0.38\n",
       "...                      ...      ...        ...      ...         ...\n",
       "ЧМК                     CHMK  4770.00    1660.00        ₽        0.53\n",
       "ЧТПЗ                    CHEP   314.00      66.50        ₽        0.27\n",
       "Энел Россия             ENRU     0.84       0.01        ₽        0.01\n",
       "ЭсЭфАй                  SFIN   500.20      15.40        ₽        0.03\n",
       "Юнипро                  UPRO     2.73      -0.08        ₽       -0.03\n",
       "\n",
       "[1804 rows x 5 columns]"
      ]
     },
     "execution_count": 230,
     "metadata": {},
     "output_type": "execute_result"
    }
   ],
   "source": [
    "df = struct(data)\n",
    "credentials = ServiceAccountCredentials\n",
    "scope = ['https://spreadsheets.google.com/feeds', 'https://www.googleapis.com/auth/drive']\n",
    "\n",
    "credentials = ServiceAccountCredentials.from_json_keyfile_name('test-333300-1860a35c4df3.json', scope)\n",
    "\n",
    "gc = gspread.authorize(credentials)\n",
    "\n",
    "df"
   ]
  },
  {
   "cell_type": "code",
   "execution_count": 232,
   "id": "26b8b92c",
   "metadata": {},
   "outputs": [
    {
     "data": {
      "text/plain": [
       "{'spreadsheetId': '1XIARKYc4ANNUEXr84YZdkKAthzVKUyJQl3_1bpWe5gs',\n",
       " 'updatedRange': \"'Лист3'!A1:E1805\",\n",
       " 'updatedRows': 1805,\n",
       " 'updatedColumns': 5,\n",
       " 'updatedCells': 9023}"
      ]
     },
     "execution_count": 232,
     "metadata": {},
     "output_type": "execute_result"
    }
   ],
   "source": [
    "ws = gc.open(\"test\").get_worksheet(0)\n",
    "ws.update([test_df.columns.values.tolist()] + test_df.values.tolist())\n",
    "# df[df[\"Ticker\"] == \"TGKB\"]\n",
    "# test_df = df.where(df.notna(), None)\n",
    "# test_df[test_df[\"Ticker\"] == \"TGKB\"]"
   ]
  }
 ],
 "metadata": {
  "kernelspec": {
   "display_name": "Python 3",
   "language": "python",
   "name": "python3"
  },
  "language_info": {
   "codemirror_mode": {
    "name": "ipython",
    "version": 3
   },
   "file_extension": ".py",
   "mimetype": "text/x-python",
   "name": "python",
   "nbconvert_exporter": "python",
   "pygments_lexer": "ipython3",
   "version": "3.8.8"
  },
  "pycharm": {
   "stem_cell": {
    "cell_type": "raw",
    "metadata": {
     "collapsed": false
    },
    "source": []
   }
  }
 },
 "nbformat": 4,
 "nbformat_minor": 5
}
