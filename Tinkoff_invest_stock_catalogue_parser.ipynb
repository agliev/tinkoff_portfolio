{
 "cells": [
  {
   "cell_type": "code",
   "execution_count": 1,
   "id": "bdc8fd50",
   "metadata": {},
   "outputs": [],
   "source": [
    "import requests\n",
    "from bs4 import BeautifulSoup\n",
    "import pandas as pd\n",
    "import numpy as np\n",
    "import gspread\n",
    "from oauth2client.service_account import ServiceAccountCredentials\n",
    "from rich.console import Console\n",
    "from rich.progress import track"
   ]
  },
  {
   "cell_type": "code",
   "execution_count": 2,
   "id": "a92ea1cd",
   "metadata": {},
   "outputs": [],
   "source": [
    "LEN = 1807"
   ]
  },
  {
   "cell_type": "code",
   "execution_count": 3,
   "id": "c8c40be4",
   "metadata": {},
   "outputs": [],
   "source": [
    "HEADERS = {'user-agent': \"Mozilla/5.0 (Windows NT 10.0; Win64; x64) AppleWebKit/537.36 (KHTML, like Gecko) Chrome/95.0.4638.69 Safari/537.36\" }"
   ]
  },
  {
   "cell_type": "code",
   "execution_count": 4,
   "id": "1a7f91b7",
   "metadata": {},
   "outputs": [],
   "source": [
    "def get_HTML(URL, params = None):\n",
    "    r = requests.get(URL, headers = HEADERS, params = params)\n",
    "    return r"
   ]
  },
  {
   "cell_type": "code",
   "execution_count": 5,
   "id": "5d304500",
   "metadata": {},
   "outputs": [],
   "source": [
    "def curr_parse(URL):\n",
    "    curr_dict = {}\n",
    "    html = get_HTML(URL)\n",
    "    if html.status_code == 200:\n",
    "        soup = BeautifulSoup(html.text, \"html.parser\")\n",
    "        items = soup.find_all(\"div\", class_ = \"SecurityColumn__cellPriceSecurities_cswKs\")\n",
    "        curr_dict[\"$\"] = float(items[0].text.replace(\"\\xa0₽\",\"\").replace(\",\",\".\"))\n",
    "        curr_dict[\"€\"] = float(items[1].text.replace(\"\\xa0₽\",\"\").replace(\",\",\".\"))\n",
    "        curr_dict[\"₽\"] = 1.0\n",
    "    return curr_dict\n",
    "curr_dict = curr_parse(\"https://www.tinkoff.ru/invest/currencies/\")"
   ]
  },
  {
   "cell_type": "code",
   "execution_count": 6,
   "id": "f9bcdcfc",
   "metadata": {},
   "outputs": [],
   "source": [
    "def parse(URL,Len):\n",
    "    stock_params_dict = {}\n",
    "    html = get_HTML(URL)\n",
    "    if html.status_code == 200:\n",
    "        soup = BeautifulSoup(html.text, \"html.parser\")\n",
    "        items = soup.find_all(\"a\", class_ = \"Link-module__link__Wv1b Link-module__link_theme_default_gf5wq\")\n",
    "        \n",
    "        stock_title_list = pd.Series([item.find('div', class_ = \"Caption__caption_cyYZT\") \\\n",
    "                         for item in items if item.find('div', class_ = \"Caption__caption_cyYZT\") ]).apply(lambda i: i.text)\n",
    "        stock_ticker_list = pd.Series([item.find('div', class_ = \"Caption__subcaption_xTAKS\") \\\n",
    "                         for item in items if item.find('div', class_ = \"Caption__subcaption_xTAKS\") ]).apply(lambda i: i.text)\n",
    "        stock_price_list = [price.replace(\"\\xa0\",\"\") for price in pd.Series([item.find('div', class_ = \"SecurityColumn__cellPriceSecurities_cswKs\") \\\n",
    "                         for item in items if item.find('div', class_ = \"SecurityColumn__cellPriceSecurities_cswKs\") ]).apply(lambda i: i.text)]\n",
    "        stock_yield_listok = pd.Series([item.find('span', class_ = \"Money-module__money_UwC2N\") \\\n",
    "                         for item in items if item.find('span', class_ = \"Money-module__money_UwC2N\") ]).apply(lambda i: i.text)\n",
    "        stock_yield_list = [yld.replace(\"\\xa0\",\"\") for yld in stock_yield_listok[::2]]\n",
    "        for i in range(Len):\n",
    "            stock_params_dict[stock_title_list[i]] = [stock_ticker_list[i],stock_price_list[i], stock_yield_list[i] ]\n",
    "    else:\n",
    "        print(\"Error\")\n",
    "    return  stock_params_dict\n"
   ]
  },
  {
   "cell_type": "code",
   "execution_count": 7,
   "id": "48cc6a41",
   "metadata": {},
   "outputs": [
    {
     "data": {
      "application/vnd.jupyter.widget-view+json": {
       "model_id": "",
       "version_major": 2,
       "version_minor": 0
      },
      "text/plain": [
       "Output()"
      ]
     },
     "metadata": {},
     "output_type": "display_data"
    },
    {
     "data": {
      "text/html": [
       "<pre style=\"white-space:pre;overflow-x:auto;line-height:normal;font-family:Menlo,'DejaVu Sans Mono',consolas,'Courier New',monospace\"></pre>\n"
      ],
      "text/plain": []
     },
     "metadata": {},
     "output_type": "display_data"
    }
   ],
   "source": [
    "console = Console()\n",
    "with console.status(\"Parsing...\", spinner = \"monkey\"):\n",
    "    data = parse(\"https://www.tinkoff.ru/invest/stocks/?country=All&orderType=Asc&sortType=ByName&start=0&end=\" + str(LEN), LEN)"
   ]
  },
  {
   "cell_type": "code",
   "execution_count": 8,
   "id": "13fff425",
   "metadata": {},
   "outputs": [],
   "source": [
    "def struct(data):\n",
    "    all_df = np.transpose(pd.DataFrame(data))\n",
    "    all_df.columns = [\"Ticker\",\"Price\",\"Nom_Yield\"]\n",
    "    all_df[\"Currency\"] = all_df[\"Nom_Yield\"].apply(lambda i: i[-1])\n",
    "    all_df[\"Nom_Yield\"] = all_df[\"Nom_Yield\"].apply(lambda i: float(i.replace(\"+\",\"\").replace(\"−\",\"-\").replace(\",\",\".\")[:-1]))\n",
    "    all_df[\"Price\"] = all_df[\"Price\"].apply(lambda i: float(i.replace(\",\",\".\")[:-1]))\n",
    "    all_df[\"Yield_rate\"] = (all_df[\"Price\"] / (all_df[\"Price\"] - all_df[\"Nom_Yield\"])).apply(lambda i: round(i, 2) - 1)\n",
    "    all_df[\"Currency_in_RUB\"] = all_df[\"Currency\"].apply(lambda i: curr_dict[i])\n",
    "    all_df[\"Price_in_RUB\"] = all_df[\"Price\"] * all_df[\"Currency_in_RUB\"]\n",
    "    all_df[\"Nom_Yield_in_RUB\"] = all_df[\"Nom_Yield\"] * all_df[\"Currency_in_RUB\"]\n",
    "    all_df = all_df.where(all_df.notna(), None)\n",
    "    return all_df\n"
   ]
  },
  {
   "cell_type": "code",
   "execution_count": 18,
   "id": "bf0268e5",
   "metadata": {},
   "outputs": [],
   "source": [
    "df = struct(data)\n",
    "credentials = ServiceAccountCredentials\n",
    "scope = ['https://spreadsheets.google.com/feeds', 'https://www.googleapis.com/auth/drive']\n",
    "\n",
    "credentials = ServiceAccountCredentials.from_json_keyfile_name('test-333300-1860a35c4df3.json', scope)\n",
    "\n",
    "gc = gspread.authorize(credentials)\n",
    "\n"
   ]
  },
  {
   "cell_type": "code",
   "execution_count": 10,
   "id": "26b8b92c",
   "metadata": {},
   "outputs": [
    {
     "data": {
      "text/plain": [
       "{'spreadsheetId': '1XIARKYc4ANNUEXr84YZdkKAthzVKUyJQl3_1bpWe5gs',\n",
       " 'updatedRange': 'Sheet_1!A1:H1805',\n",
       " 'updatedRows': 1805,\n",
       " 'updatedColumns': 8,\n",
       " 'updatedCells': 14438}"
      ]
     },
     "execution_count": 10,
     "metadata": {},
     "output_type": "execute_result"
    }
   ],
   "source": [
    "ws = gc.open(\"test\").get_worksheet(0)\n",
    "ws.update([df.columns.values.tolist()] + df.values.tolist())"
   ]
  },
  {
   "cell_type": "code",
   "execution_count": 11,
   "id": "4039b368",
   "metadata": {},
   "outputs": [],
   "source": [
    "def forecast(df):\n",
    "        forecast_list = []\n",
    "        ticker_list = df.Ticker.tolist()\n",
    "        for ticker in ticker_list:\n",
    "            html = get_HTML(\"https://www.tinkoff.ru/invest/stocks/\" + ticker + \"/\")\n",
    "            soup = BeautifulSoup(html.text, \"html.parser\")\n",
    "            items = soup.find_all(\"div\", class_ = \"ShortPrognosisBlock__value_k96ti\")\n",
    "            if len(items) > 0 :\n",
    "                 forecast_list.append(items[0].text)\n",
    "            else:\n",
    "                forecast_list.append(None)\n",
    "        return forecast_list\n"
   ]
  },
  {
   "cell_type": "code",
   "execution_count": 23,
   "id": "b88cf947",
   "metadata": {},
   "outputs": [
    {
     "data": {
      "text/plain": [
       "['52\\xa0$+25,18\\xa0$\\xa0(93,89%)',\n",
       " '210\\xa0$+61,63\\xa0$\\xa0(41,54%)',\n",
       " '33,25\\xa0$+17,39\\xa0$\\xa0(109,65%)',\n",
       " '72\\xa0$+44,64\\xa0$\\xa0(163,16%)',\n",
       " '46\\xa0$+23,51\\xa0$\\xa0(104,54%)',\n",
       " '29,5\\xa0$+7,26\\xa0$\\xa0(32,64%)',\n",
       " '183,4\\xa0$+12,08\\xa0$\\xa0(7,05%)',\n",
       " None,\n",
       " '30\\xa0$+11,13\\xa0$\\xa0(58,98%)',\n",
       " '80,67\\xa0$−1,04\\xa0$\\xa0(−1,27%)',\n",
       " '70\\xa0$−8,84\\xa0$\\xa0(−11,21%)',\n",
       " '30\\xa0$−3,63\\xa0$\\xa0(−10,79%)',\n",
       " '142\\xa0$+13,43\\xa0$\\xa0(10,45%)',\n",
       " '130\\xa0$+12,99\\xa0$\\xa0(11,1%)',\n",
       " '35,34\\xa0$+20,77\\xa0$\\xa0(142,55%)',\n",
       " '55\\xa0$+19,64\\xa0$\\xa0(55,54%)',\n",
       " '410\\xa0$+99,3\\xa0$\\xa0(31,96%)',\n",
       " '56,8\\xa0$+12,45\\xa0$\\xa0(28,07%)',\n",
       " '26\\xa0$+6,36\\xa0$\\xa0(32,38%)',\n",
       " None,\n",
       " '380,72\\xa0$+12,49\\xa0$\\xa0(3,39%)',\n",
       " '41\\xa0$+11,4\\xa0$\\xa0(38,51%)',\n",
       " '136,75\\xa0$+55,31\\xa0$\\xa0(67,92%)',\n",
       " '103,6\\xa0$+46,05\\xa0$\\xa0(80,02%)',\n",
       " '228,34\\xa0$+28,82\\xa0$\\xa0(14,44%)',\n",
       " '51\\xa0$+24,96\\xa0$\\xa0(95,85%)',\n",
       " '124\\xa0$+36,13\\xa0$\\xa0(41,12%)',\n",
       " None,\n",
       " '760\\xa0$+88,42\\xa0$\\xa0(13,17%)',\n",
       " None,\n",
       " '251,5\\xa0$+22,88\\xa0$\\xa0(10,01%)',\n",
       " '106,29\\xa0$+18,86\\xa0$\\xa0(21,57%)',\n",
       " '58\\xa0$+12,6\\xa0$\\xa0(27,75%)',\n",
       " '83,75\\xa0$+13,78\\xa0$\\xa0(19,69%)',\n",
       " '27,34\\xa0$+17,32\\xa0$\\xa0(172,85%)',\n",
       " None,\n",
       " '130\\xa0$+50,78\\xa0$\\xa0(64,1%)',\n",
       " '236\\xa0$+63,1\\xa0$\\xa0(36,5%)',\n",
       " '11,5\\xa0$+4,88\\xa0$\\xa0(73,72%)',\n",
       " '191,5\\xa0$+74,56\\xa0$\\xa0(63,76%)',\n",
       " '64\\xa0$+8,72\\xa0$\\xa0(15,77%)',\n",
       " '151,25\\xa0$+37,85\\xa0$\\xa0(33,38%)',\n",
       " '179\\xa0$+26,7\\xa0$\\xa0(17,53%)',\n",
       " '95\\xa0$+60,21\\xa0$\\xa0(173,07%)',\n",
       " '338\\xa0$+49,79\\xa0$\\xa0(17,28%)',\n",
       " '177,5\\xa0$+10,37\\xa0$\\xa0(6,2%)',\n",
       " '141,84\\xa0$+30,37\\xa0$\\xa0(27,24%)',\n",
       " '150\\xa0$+4,4\\xa0$\\xa0(3,02%)',\n",
       " '111\\xa0$+31,69\\xa0$\\xa0(39,96%)',\n",
       " '76,75\\xa0$+27,76\\xa0$\\xa0(56,66%)',\n",
       " '85\\xa0$+2,8\\xa0$\\xa0(3,41%)',\n",
       " '250,34\\xa0$−13,11\\xa0$\\xa0(−4,98%)',\n",
       " '62,34\\xa0$+17,3\\xa0$\\xa0(38,41%)',\n",
       " '221,67\\xa0$+19,5\\xa0$\\xa0(9,65%)',\n",
       " '226\\xa0$+102,07\\xa0$\\xa0(82,36%)',\n",
       " '15\\xa0$+4,92\\xa0$\\xa0(48,81%)',\n",
       " '812,5\\xa0$+189,75\\xa0$\\xa0(30,47%)',\n",
       " '206,67\\xa0$+126,97\\xa0$\\xa0(159,31%)',\n",
       " None,\n",
       " '257,5\\xa0$+83,28\\xa0$\\xa0(47,8%)',\n",
       " '164,5\\xa0$+36,99\\xa0$\\xa0(29,01%)',\n",
       " '66\\xa0$+5,68\\xa0$\\xa0(9,42%)',\n",
       " '121\\xa0$+49,47\\xa0$\\xa0(69,16%)',\n",
       " '58,34\\xa0$+2,39\\xa0$\\xa0(4,27%)',\n",
       " None,\n",
       " '38\\xa0$+2,02\\xa0$\\xa0(5,61%)',\n",
       " '33,84\\xa0$+15,14\\xa0$\\xa0(80,96%)',\n",
       " '20\\xa0$+3,36\\xa0$\\xa0(20,19%)',\n",
       " '69,15\\xa0$+21,91\\xa0$\\xa0(46,38%)',\n",
       " '274\\xa0$+93,16\\xa0$\\xa0(51,52%)',\n",
       " '3\\xa0420\\xa0$+555,26\\xa0$\\xa0(19,38%)',\n",
       " '3\\xa0396,25\\xa0$+516,34\\xa0$\\xa0(17,93%)',\n",
       " '81,5\\xa0$+8,45\\xa0$\\xa0(11,57%)',\n",
       " '97\\xa0$+32,2\\xa0$\\xa0(49,69%)',\n",
       " '30\\xa0$+13,6\\xa0$\\xa0(82,93%)',\n",
       " '52,34\\xa0$+9\\xa0$\\xa0(20,77%)',\n",
       " None,\n",
       " '86\\xa0$+56,1\\xa0$\\xa0(187,63%)',\n",
       " '4\\xa0107,15\\xa0$+633,85\\xa0$\\xa0(18,25%)',\n",
       " '58\\xa0$+21,67\\xa0$\\xa0(59,65%)',\n",
       " '176,67\\xa0$+24,51\\xa0$\\xa0(16,11%)',\n",
       " '216\\xa0$+76,37\\xa0$\\xa0(54,69%)',\n",
       " '88,5\\xa0$+5,33\\xa0$\\xa0(6,41%)',\n",
       " '205\\xa0$+104,7\\xa0$\\xa0(104,39%)',\n",
       " '18,5\\xa0$+1,34\\xa0$\\xa0(7,81%)',\n",
       " '42\\xa0$+15,91\\xa0$\\xa0(60,98%)',\n",
       " '202\\xa0$+44,44\\xa0$\\xa0(28,21%)',\n",
       " None,\n",
       " '46,17\\xa0$+5,41\\xa0$\\xa0(13,27%)',\n",
       " '66\\xa0$+12,38\\xa0$\\xa0(23,09%)',\n",
       " '41\\xa0$+17,77\\xa0$\\xa0(76,5%)',\n",
       " '35,5\\xa0$+14,83\\xa0$\\xa0(71,75%)',\n",
       " '97\\xa0$+1,17\\xa0$\\xa0(1,22%)',\n",
       " '305,5\\xa0$+39,73\\xa0$\\xa0(14,95%)',\n",
       " '178,75\\xa0$+8,53\\xa0$\\xa0(5,01%)',\n",
       " '93\\xa0$+27,63\\xa0$\\xa0(42,27%)',\n",
       " '36,5\\xa0$+4,64\\xa0$\\xa0(14,56%)',\n",
       " '331,67\\xa0$+36,4\\xa0$\\xa0(12,33%)',\n",
       " '70\\xa0$+16,47\\xa0$\\xa0(30,77%)',\n",
       " '150\\xa0$+34,57\\xa0$\\xa0(29,95%)']"
      ]
     },
     "execution_count": 23,
     "metadata": {},
     "output_type": "execute_result"
    }
   ],
   "source": [
    "forecast(df.iloc[:100])"
   ]
  }
 ],
 "metadata": {
  "kernelspec": {
   "display_name": "Python 3",
   "language": "python",
   "name": "python3"
  },
  "language_info": {
   "codemirror_mode": {
    "name": "ipython",
    "version": 3
   },
   "file_extension": ".py",
   "mimetype": "text/x-python",
   "name": "python",
   "nbconvert_exporter": "python",
   "pygments_lexer": "ipython3",
   "version": "3.8.8"
  },
  "pycharm": {
   "stem_cell": {
    "cell_type": "raw",
    "metadata": {
     "collapsed": false
    },
    "source": []
   }
  }
 },
 "nbformat": 4,
 "nbformat_minor": 5
}
